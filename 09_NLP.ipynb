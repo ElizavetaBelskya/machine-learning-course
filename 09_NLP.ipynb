{
  "cells": [
    {
      "cell_type": "markdown",
      "metadata": {
        "id": "-o7X5MuDjKSe"
      },
      "source": [
        "# 09. Основы обработки естественного языка (NLP)"
      ]
    },
    {
      "cell_type": "markdown",
      "metadata": {
        "id": "DDh1w2xG4sla"
      },
      "source": [
        "## I. Предобработка текста"
      ]
    },
    {
      "cell_type": "markdown",
      "metadata": {
        "id": "0fT3HSs4jKS6"
      },
      "source": [
        "### 1) Загрузка корпуса текстов"
      ]
    },
    {
      "cell_type": "code",
      "execution_count": null,
      "metadata": {
        "colab": {
          "base_uri": "https://localhost:8080/"
        },
        "outputId": "3312e730-4fd2-4b43-b2e7-ea2b165ae6d5",
        "id": "6fA3hZGrjKS6"
      },
      "outputs": [
        {
          "output_type": "stream",
          "name": "stdout",
          "text": [
            "Hello Mr. Smith, how are you doing today? The weather is better than yesterday and Python is awesome.\n"
          ]
        }
      ],
      "source": [
        "input_data = \"Hello Mr. Smith, how are you doing today? The weather is better than yesterday and Python is awesome.\"\n",
        "print(input_data)"
      ]
    },
    {
      "cell_type": "markdown",
      "metadata": {
        "id": "P_anl-1HjKS6"
      },
      "source": [
        "### 2) Токенизация"
      ]
    },
    {
      "cell_type": "code",
      "execution_count": null,
      "metadata": {
        "colab": {
          "base_uri": "https://localhost:8080/"
        },
        "outputId": "4cfed6dd-f54b-4b0a-cebb-96dbf465cc3a",
        "id": "vfgt1IQZjKS7"
      },
      "outputs": [
        {
          "output_type": "stream",
          "name": "stderr",
          "text": [
            "[nltk_data] Downloading package punkt to /root/nltk_data...\n",
            "[nltk_data]   Unzipping tokenizers/punkt.zip.\n"
          ]
        },
        {
          "output_type": "stream",
          "name": "stdout",
          "text": [
            "['Hello Mr. Smith, how are you doing today?', 'The weather is better than yesterday and Python is awesome.']\n"
          ]
        }
      ],
      "source": [
        "import nltk\n",
        "\n",
        "from nltk.tokenize import sent_tokenize\n",
        "nltk.download('punkt')\n",
        "\n",
        "corpus = sent_tokenize(input_data)\n",
        "print(corpus)"
      ]
    },
    {
      "cell_type": "markdown",
      "metadata": {
        "id": "doiUI17XjKS7"
      },
      "source": [
        "#### 2.1) Регулярные выражения\n",
        "\n",
        "Регулярное выражение (регулярка, regexp, regex) – это последовательность символов, которая определяет шаблон поиска. Например:\n",
        "\n",
        "- . – любой символ, кроме перевода строки;\n",
        "- \\w – один символ;\n",
        "- \\d – одна цифра;\n",
        "- \\s – один пробел;\n",
        "- \\W – один НЕсимвол;\n",
        "- \\D – одна НЕцифра;\n",
        "- \\S – один НЕпробел;\n",
        "- [abc] – находит любой из указанных символов match any of a, b, or c;\n",
        "- [^abc] – находит любой символ, кроме указанных;\n",
        "- [a-g] – находит символ в промежутке от a до g."
      ]
    },
    {
      "cell_type": "code",
      "execution_count": null,
      "metadata": {
        "colab": {
          "base_uri": "https://localhost:8080/"
        },
        "outputId": "6fa352ad-c151-43ae-be1b-483d80880f0a",
        "id": "AgjmecapjKS7"
      },
      "outputs": [
        {
          "output_type": "stream",
          "name": "stdout",
          "text": [
            "['Hello Mr  Smith  how are you doing today ', 'The weather is better than yesterday and Python is awesome ']\n"
          ]
        }
      ],
      "source": [
        "import re\n",
        "\n",
        "corpus = [re.sub(\"[^A-Za-z]\", \" \", text) for text in corpus]\n",
        "print(corpus)"
      ]
    },
    {
      "cell_type": "code",
      "execution_count": null,
      "metadata": {
        "colab": {
          "base_uri": "https://localhost:8080/"
        },
        "outputId": "a9fb32cd-faf0-4621-851e-e26cefa02c32",
        "id": "XcJEii5GjKS8"
      },
      "outputs": [
        {
          "output_type": "stream",
          "name": "stdout",
          "text": [
            "['Hello', 'Mr', 'Smith', 'how', 'are', 'you', 'doing', 'today']\n"
          ]
        }
      ],
      "source": [
        "from nltk.tokenize import word_tokenize\n",
        "\n",
        "corpus = [word_tokenize(text) for text in corpus]\n",
        "print(corpus[0])"
      ]
    },
    {
      "cell_type": "markdown",
      "metadata": {
        "id": "u_Cs4GDkjKS8"
      },
      "source": [
        "### 3) Стоп-слова"
      ]
    },
    {
      "cell_type": "code",
      "execution_count": null,
      "metadata": {
        "colab": {
          "base_uri": "https://localhost:8080/"
        },
        "outputId": "7f6031f2-1c09-4399-a6c8-3c30ddcc7699",
        "id": "74AvefSFjKS8"
      },
      "outputs": [
        {
          "output_type": "stream",
          "name": "stdout",
          "text": [
            "[['Hello', 'Mr', 'Smith', 'today'], ['The', 'weather', 'better', 'yesterday', 'Python', 'awesome']]\n"
          ]
        },
        {
          "output_type": "stream",
          "name": "stderr",
          "text": [
            "[nltk_data] Downloading package stopwords to /root/nltk_data...\n",
            "[nltk_data]   Unzipping corpora/stopwords.zip.\n"
          ]
        }
      ],
      "source": [
        "nltk.download('stopwords')\n",
        "\n",
        "tmp = []\n",
        "for text in corpus:\n",
        "  text = [word for word in text if word not in set(nltk.corpus.stopwords.words(\"english\"))]\n",
        "  tmp.append(text)\n",
        "\n",
        "corpus = tmp\n",
        "print(corpus)"
      ]
    },
    {
      "cell_type": "markdown",
      "metadata": {
        "id": "kcYx7sKDjKS9"
      },
      "source": [
        "### 4) Нормализация"
      ]
    },
    {
      "cell_type": "markdown",
      "metadata": {
        "id": "pYr27WzYjKS9"
      },
      "source": [
        "#### 4.1) Стемминг"
      ]
    },
    {
      "cell_type": "code",
      "execution_count": null,
      "metadata": {
        "colab": {
          "base_uri": "https://localhost:8080/"
        },
        "outputId": "ae892f5b-0d17-487a-c7ab-652a4f7ff1af",
        "id": "p8Mm7ybWjKS9"
      },
      "outputs": [
        {
          "output_type": "stream",
          "name": "stdout",
          "text": [
            "[['hello', 'mr', 'smith', 'today'], ['the', 'weather', 'better', 'yesterday', 'python', 'awesom']]\n"
          ]
        }
      ],
      "source": [
        "stemmer = nltk.stem.PorterStemmer()\n",
        "\n",
        "tmp = []\n",
        "for text in corpus:\n",
        "  text = [stemmer.stem(word) for word in text]\n",
        "  tmp.append(text)\n",
        "\n",
        "corpus1 = tmp\n",
        "print(corpus1)"
      ]
    },
    {
      "cell_type": "markdown",
      "metadata": {
        "id": "UFAXIa9mjKS9"
      },
      "source": [
        "#### 4.2) Лемматизация"
      ]
    },
    {
      "cell_type": "code",
      "execution_count": null,
      "metadata": {
        "colab": {
          "base_uri": "https://localhost:8080/"
        },
        "outputId": "b3c85fe0-496d-462a-8506-b9a2996a5a2b",
        "id": "75hkjWtLjKS-"
      },
      "outputs": [
        {
          "output_type": "stream",
          "name": "stderr",
          "text": [
            "[nltk_data] Downloading package omw-1.4 to /root/nltk_data...\n",
            "[nltk_data] Downloading package wordnet to /root/nltk_data...\n"
          ]
        },
        {
          "output_type": "stream",
          "name": "stdout",
          "text": [
            "[['Hello', 'Mr', 'Smith', 'today'], ['The', 'weather', 'better', 'yesterday', 'Python', 'awesome']]\n"
          ]
        }
      ],
      "source": [
        "nltk.download('omw-1.4')\n",
        "nltk.download('wordnet')\n",
        "\n",
        "lemmatizer = nltk.stem.WordNetLemmatizer()\n",
        "\n",
        "tmp = []\n",
        "for text in corpus:\n",
        "  text = [lemmatizer.lemmatize(word) for word in text]\n",
        "  tmp.append(text)\n",
        "\n",
        "corpus2 = tmp\n",
        "print(corpus2)"
      ]
    },
    {
      "cell_type": "code",
      "execution_count": null,
      "metadata": {
        "colab": {
          "base_uri": "https://localhost:8080/"
        },
        "outputId": "26929775-9670-45f7-c387-8fbc87ed61b0",
        "id": "ayHf-Yl4jKS-"
      },
      "outputs": [
        {
          "output_type": "stream",
          "name": "stdout",
          "text": [
            "better\n",
            "good\n"
          ]
        }
      ],
      "source": [
        "print(lemmatizer.lemmatize(\"better\"))\n",
        "print(lemmatizer.lemmatize(\"better\", pos=\"a\"))  # pos='a' adjective"
      ]
    },
    {
      "cell_type": "code",
      "execution_count": null,
      "metadata": {
        "colab": {
          "base_uri": "https://localhost:8080/"
        },
        "outputId": "bbb1f450-784e-485b-8ee8-6dd12bbd3c71",
        "id": "jgFYDqJojKS-"
      },
      "outputs": [
        {
          "output_type": "stream",
          "name": "stdout",
          "text": [
            "Hello Mr Smith today\n",
            "The weather better yesterday Python awesome\n",
            "[['hello', 'Mr', 'Smith', 'today'], ['the', 'weather', 'well', 'yesterday', 'Python', 'awesome']]\n",
            "[['hello', 'Mr', ' ', 'Smith', ' ', 'how', 'be', 'you', 'do', 'today'], ['the', 'weather', 'be', 'well', 'than', 'yesterday', 'and', 'Python', 'be', 'awesome']]\n"
          ]
        }
      ],
      "source": [
        "#!pip install spacy\n",
        "import spacy\n",
        "# загружаем модели пакета spacy для лемматизации английского языка\n",
        "#!python -m spacy download en_core_web_sm\n",
        "en_nlp = spacy.load('en_core_web_sm')\n",
        "\n",
        "tmp = []\n",
        "for text in corpus:\n",
        "  print(' '.join(text))\n",
        "  text_spacy = en_nlp(' '.join(text))\n",
        "  text = [token.lemma_ for token in text_spacy]\n",
        "  tmp.append(text)\n",
        "\n",
        "print(tmp)\n",
        "\n",
        "\n",
        "tmp = []\n",
        "for text in sent_tokenize(input_data):\n",
        "  text = re.sub(\"[^A-Za-z]\", \" \", text)\n",
        "  text_spacy = en_nlp(text)\n",
        "  text = [token.lemma_ for token in text_spacy]\n",
        "  tmp.append(text)\n",
        "\n",
        "print(tmp)"
      ]
    },
    {
      "cell_type": "markdown",
      "metadata": {
        "id": "0dsDgV-tjKS_"
      },
      "source": [
        "## II. Векторное представление текстов"
      ]
    },
    {
      "cell_type": "markdown",
      "metadata": {
        "id": "jEO5g87EjKS_"
      },
      "source": [
        "### Модель «Мешок слов»"
      ]
    },
    {
      "cell_type": "code",
      "execution_count": null,
      "metadata": {
        "colab": {
          "base_uri": "https://localhost:8080/"
        },
        "outputId": "dc822e1f-3a35-434a-f638-ce10538f27c0",
        "id": "pdlyFi1WjKS_"
      },
      "outputs": [
        {
          "output_type": "stream",
          "name": "stdout",
          "text": [
            "Размер словаря: 17\n",
            "Содержимое словаря: {'hello': 5, 'mr': 8, 'smith': 10, 'how': 6, 'are': 1, 'you': 16, 'doing': 4, 'today': 13, 'the': 12, 'weather': 14, 'is': 7, 'better': 3, 'than': 11, 'yesterday': 15, 'and': 0, 'python': 9, 'awesome': 2}\n"
          ]
        }
      ],
      "source": [
        "corpus = sent_tokenize(input_data)\n",
        "\n",
        "# Выполняем токенизацию и создаем словарь:\n",
        "from sklearn.feature_extraction.text import CountVectorizer\n",
        "vect = CountVectorizer().fit(corpus)\n",
        "\n",
        "# Доступ к словарю через атрибут vocabulary_\n",
        "print(\"Размер словаря: {}\".format(len(vect.vocabulary_)))\n",
        "print(\"Содержимое словаря: {}\".format(vect.vocabulary_))"
      ]
    },
    {
      "cell_type": "code",
      "execution_count": null,
      "metadata": {
        "colab": {
          "base_uri": "https://localhost:8080/"
        },
        "outputId": "325210c4-5a8b-485e-d41b-2fa65d03de3d",
        "id": "G52c32T9jKS_"
      },
      "outputs": [
        {
          "output_type": "stream",
          "name": "stdout",
          "text": [
            "bag_of_words: <2x17 sparse matrix of type '<class 'numpy.int64'>'\n",
            "\twith 17 stored elements in Compressed Sparse Row format>\n"
          ]
        }
      ],
      "source": [
        "X_train = vect.transform(corpus)\n",
        "print(\"bag_of_words: {}\".format(repr(X_train)))"
      ]
    },
    {
      "cell_type": "code",
      "execution_count": null,
      "metadata": {
        "colab": {
          "base_uri": "https://localhost:8080/"
        },
        "outputId": "fe689d15-2e0d-482a-d2aa-6db7040aab0b",
        "id": "ik4inSZujKTA"
      },
      "outputs": [
        {
          "output_type": "stream",
          "name": "stdout",
          "text": [
            "Плотное представление bag_of_words:\n",
            "[[0 1 0 0 1 1 1 0 1 0 1 0 0 1 0 0 1]\n",
            " [1 0 1 1 0 0 0 2 0 1 0 1 1 0 1 1 0]]\n"
          ]
        }
      ],
      "source": [
        "print(\"Плотное представление bag_of_words:\\n{}\".format(X_train.toarray()))"
      ]
    },
    {
      "cell_type": "markdown",
      "metadata": {
        "id": "8MEzExWjjKTA"
      },
      "source": [
        "#### Распределение Ципфа\n",
        "\n",
        "Если отсортировать слова по убыванию частоты их употребления то получим график Ципфа – эмпирический закон распределения частот слов, применяемый в лингвистике.\n",
        "\n",
        "![image.png](data:image/png;base64,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)\n"
      ]
    },
    {
      "cell_type": "markdown",
      "metadata": {
        "id": "tTIU3zXgjKTC"
      },
      "source": [
        "### Модель TF-IDF"
      ]
    },
    {
      "cell_type": "markdown",
      "metadata": {
        "id": "74ZDopZyjKTC"
      },
      "source": [
        "Разработаны различные способы для представления текстов в виде числовых данных. Многие способы опираются на подсчет статистики использования слов в документах. Далее рассмотрим метод TF-IDF, которые опирается на статистику слов в документах.\n",
        "\n",
        "TF-DF (от англ. TF – term frequency (частота слова),\n",
        "IDF – inverse document frequency (обратная частота документа)) – это статистическая мера, используемая для оценки важности слова в контексте документа, являющегося частью коллекции документов (корпуса). Согласно TF-IDF вес некоторого слова пропорционален частоте употребления этого слова в документе и обратно пропорционален частоте употребления слова во всех документах коллекции. На основе меры TF-IDF документы коллекции могут быть представлены в виде числовых векторов, отражающих важность использования каждого слова в каждом документе.\n",
        "\n",
        "Данная модель называется векторной моделью и даёт возможность сравнивать тексты, сравнивая представляющие их вектора по какой-либо метрике (например, евклидово расстояние, мера на основе косинуса угла между векторами, манхэттенское расстояние, расстояние Чебышёва или др.). Это применяется\n",
        "* в задачах анализа текстов,\n",
        "* при информационного поиска, как один из критериев релевантности документа поисковому запросу,\n",
        "* при кластеризации для расчёта меры близости документов.\n",
        "\n",
        "Мера TF-IDF для конкретного слова является произведением двух сомножителей и вычисляется по формуле:\n",
        "\n",
        "$$ tf-idf(t,d,D) = tf(t,d) * idf(t,D)$$\n",
        "\n",
        "Большой вес в TF-IDF получат слова с высокой частотой в пределах конкретного документа и с низкой частотой употреблений в других документах.\n",
        "\n",
        "TF (частота слова) – отношение числа вхождений некоторого слова $t$ к общему числу слов документа (оценка важности слова в пределах отдельного документа).\n",
        "\n",
        "$$ tf(t,d) = \\frac{n_t}{\\sum_k n_k}$$\n",
        "\n",
        "где $n_t$ – число вхождений слова $t$ в документ $d$, а в знаменателе – общее число слов в данном документе.\n",
        "\n",
        "IDF (обратная частота документа) – инверсия частоты, с которой слово встречается в документах коллекции.\n",
        "\n",
        "$$ idf(t,D) = \\log\\frac{|D|}{|\\{ d_i\\in D, t\\in d_i\\}|}$$\n",
        "\n",
        "$|D|$ – число документов в коллекции,\n",
        "\n",
        "$|\\{ d_i\\in D, t\\in d_i\\}|$ – число документов из коллекции $D$, в которых встречается $t$.\n",
        "\n",
        "Выбор основания логарифма в формуле не имеет значения, поскольку изменение основания приводит к изменению веса каждого слова на постоянный множитель, что не влияет на соотношение весов.\n",
        "\n",
        "Учёт IDF уменьшает вес широкоупотребительных слов. Для каждого уникального слова в пределах конкретной коллекции документов существует только одно значение IDF.\n",
        "\n",
        "Для получения модели TF-IDF из текста необходимо:\n",
        "1.\tТокенизация. Разбиваем каждый документ на слова, которые встречаются в нем (токены), например, с помощью пробелов и знаков пунктуации.\n",
        "2.\tПостроение словаря. Собираем словарь всех слов, которые появляются в любом из документов, и пронумеровываем их (например, в алфавитном порядке).\n",
        "3.\tСоздание матрицы TF-IDF. Для каждого документа корпуса подсчитываем, как часто каждое из слов, занесенное в словарь, встречается в документе и во всем корпусе документов. Вычисляем меру TF-IDF для каждого слова документа.\n",
        "\n",
        "В итоге каждый документ можно представить в виде числового вектора. В полученном числовом представлении каждый признак (вход НС) соответствует определенному уникальному слову набора данных. Формируя TF-IDF, не учитывается структура исходного текста – главы, параграфы, предложения, форматирование. Для представления признаков TF-IDF, порядок слов в исходной строке и документе в целом не имеет значения (аналогично модели «Мешок слов»).\n",
        "\n",
        "Модель TF-IDF на практике имеет множество модификаций, как связанных с расчетом значения TF-IDF, так и способом реализации.\n",
        "В библиотеке Scikit-learn (https://scikit-learn.org) метод TF-IDF реализован в двух классах:\n",
        "* TfidfVectorizer – принимает на вход текстовые данные и выполняет преобразование TF-IDF (на выходе – матрица в формате TF-IDF).\n",
        "* TfidfTransformer – принимает на вход разреженную матрицу, полученную с помощью CountVectorizer, и преобразует ее в TF-IDF.\n",
        "\n",
        "Оба класса применяют нормализацию L2 после того, как вычисляют представление TF-IDF, т.е. они масштабируют векторизованное представление каждого документа к единичной евклидовой норме – длине."
      ]
    },
    {
      "cell_type": "code",
      "execution_count": null,
      "metadata": {
        "colab": {
          "base_uri": "https://localhost:8080/"
        },
        "outputId": "9b7ba3fb-03e0-405f-c3fd-92efaa54e95f",
        "id": "Bg2O2mQYjKTC"
      },
      "outputs": [
        {
          "output_type": "stream",
          "name": "stdout",
          "text": [
            "['and' 'are' 'awesome' 'better' 'doing' 'hello' 'how' 'is' 'mr' 'python'\n",
            " 'smith' 'than' 'the' 'today' 'weather' 'yesterday' 'you']\n",
            "(2, 17)\n",
            "Матрица TF-IDF:\n",
            "[[0.   0.35 0.   0.   0.35 0.35 0.35 0.   0.35 0.   0.35 0.   0.   0.35\n",
            "  0.   0.   0.35]\n",
            " [0.29 0.   0.29 0.29 0.   0.   0.   0.58 0.   0.29 0.   0.29 0.29 0.\n",
            "  0.29 0.29 0.  ]]\n"
          ]
        }
      ],
      "source": [
        "from sklearn.feature_extraction.text import TfidfVectorizer\n",
        "import numpy as np\n",
        "\n",
        "vectorizer = TfidfVectorizer()\n",
        "X = vectorizer.fit_transform(corpus)\n",
        "\n",
        "print(vectorizer.get_feature_names_out())\n",
        "print(X.shape)\n",
        "\n",
        "np.set_printoptions(precision=2)\n",
        "print(\"Матрица TF-IDF:\\n{}\".format(X.toarray()))"
      ]
    },
    {
      "cell_type": "markdown",
      "metadata": {
        "id": "uRnDB5NQjKTD"
      },
      "source": [
        " ### Модель TF-IDF с использованием N-грамм"
      ]
    },
    {
      "cell_type": "markdown",
      "metadata": {
        "id": "r-neHVTvjKTD"
      },
      "source": [
        "N-граммы – последовательности из нескольких идущих подряд или токенов (слов) или символов.\n",
        "\n",
        "В символьных N-граммах берём 3 или более подряд идущих символа. В пословных N-граммах аналогично, только со словами.\n",
        "\n",
        "Пример, фраза: «Днём мама мыла раму»\n",
        "\n",
        "2-граммы из слов: «днём мама», «мама мыла», «мыла раму»\n",
        "\n",
        "3-граммы из символов: «днё», «нём», «ём_», «м_м», «_ма», «мам», …\n",
        "\n",
        "N-граммы широко применяются в NLP. Использование N-грамм:\n",
        "* Модель достаточно простая (не сильно усложняется).\n",
        "* Появляется устойчивость к опечаткам и словоизменению – можно частично обойтись без исправления опечаток и использования сложных алгоритмов нормализации текстов (лематизация и морфологический анализ).\n",
        "* Пословные N-граммы более специфичны по сравнению с отдельными словами – т.е. они встречаются реже, но если встречаются являются более сильным фактором и поэтому они могут лучше описывать особенности тематики текстов.\n",
        "\n",
        "Один из главных недостатков представления \"мешок слов\" и TF-IDF заключается в полном игнорировании порядка слов. Две строки  \"it’s good, not bad at all\" и \"it’s bad, not good at all\" будут иметь одинаковое представление, хотя противоположны по смыслу. Это пример того, какое важное значение имеет контекст.\n",
        "N-грамма – это применение векторной модели (CountVectorizer или TfidfVectorizer) для последовательностей из нескольких слов.\n",
        "Также в алгоритмах встречаются символьные N-граммы.\n",
        "\n",
        "N-граммы – это способ, позволяющий учитывать контекст при использовании представления \"мешок слов\", фиксируя не только частоты одиночных токенов, но и пары, тройки токенов, которые появляются рядом друг с другом.\n",
        "\n",
        "Пары токенов называют биграммами, тройки токенов – триграммы,\n",
        "в общем случае последовательности токенов известны как N-граммы.\n",
        "\n",
        "Задать диапазон токенов, которые рассматриваются в качестве признаков (значение N), можно указав параметр ngram_range для CountVectorizer или TfidfVectorizer. ngram_range задает нижнюю и верхнюю границы диапазона N: будут использованы все значения N, которые удовлетворяют условию min_n <= N <= max_n. По умолчанию min_n=1 и max_n=1 – одиночные токены (юниграммы).\n",
        "Используем для poet_words юниграммы, биграммы и триграммы:"
      ]
    },
    {
      "cell_type": "code",
      "execution_count": null,
      "metadata": {
        "colab": {
          "base_uri": "https://localhost:8080/"
        },
        "outputId": "93f566e9-a632-4c85-f2e8-663ece883ae3",
        "id": "1TRc2TzqjKTE"
      },
      "outputs": [
        {
          "output_type": "stream",
          "name": "stdout",
          "text": [
            "Размер словаря: 17\n",
            "Словарь: ['and' 'are' 'awesome' 'better' 'doing' 'hello' 'how' 'is' 'mr' 'python'\n",
            " 'smith' 'than' 'the' 'today' 'weather' 'yesterday' 'you']\n"
          ]
        }
      ],
      "source": [
        "#По умолчанию min_n=1 и max_n=1 – одиночные токены (юниграммы).\n",
        "\n",
        "from sklearn.feature_extraction.text import CountVectorizer\n",
        "cv = CountVectorizer(ngram_range=(1, 1)).fit(corpus)\n",
        "print(\"Размер словаря: {}\".format(len(cv.vocabulary_)))\n",
        "print(\"Словарь: {}\".format(cv.get_feature_names_out()))"
      ]
    },
    {
      "cell_type": "code",
      "execution_count": null,
      "metadata": {
        "colab": {
          "base_uri": "https://localhost:8080/"
        },
        "outputId": "8e581e08-49eb-42eb-f21d-e8c54ecccd35",
        "id": "-W-lrhzdjKTE"
      },
      "outputs": [
        {
          "output_type": "stream",
          "name": "stdout",
          "text": [
            "Размер словаря: 16\n",
            "Словарь:\n",
            "['and python' 'are you' 'better than' 'doing today' 'hello mr' 'how are'\n",
            " 'is awesome' 'is better' 'mr smith' 'python is' 'smith how'\n",
            " 'than yesterday' 'the weather' 'weather is' 'yesterday and' 'you doing']\n",
            "Векторное представление:\n",
            "[[0 1 0 1 1 1 0 0 1 0 1 0 0 0 0 1]\n",
            " [1 0 1 0 0 0 1 1 0 1 0 1 1 1 1 0]]\n"
          ]
        }
      ],
      "source": [
        "#Чтобы задать биграммы (последовательности из двух токенов, следующих друг за другом) установим ngram_range равным (2, 2):\n",
        "\n",
        "cv = CountVectorizer(ngram_range=(2, 2)).fit(corpus)\n",
        "print(\"Размер словаря: {}\".format(len(cv.vocabulary_)))\n",
        "print(\"Словарь:\\n{}\".format(cv.get_feature_names_out()))\n",
        "print(\"Векторное представление:\\n{}\".format(cv.transform(corpus).toarray()))"
      ]
    },
    {
      "cell_type": "markdown",
      "metadata": {
        "id": "c1yI5xcwjKTF"
      },
      "source": [
        "Использование длинных последовательностей токенов, как правило, приводит к гораздо большему числу признаков и большей детализации признаков.\n",
        "\n",
        "В большинстве прикладных задач минимальное количество токенов в последовательности должно быть равно единице, поскольку одиночные слова позволяют зафиксировать многие смысловые значения. Максимальное количество токенов в N-грамме – как правило не более 5.\n",
        "\n",
        "Добавление биграмм помогает во многих случаях.\n",
        "Включение в анализ более длинных последовательностей, вплоть до 5-грамм, тоже может помочь в улучшении качества модели, но это вызовет большой рост количества признаков и может привести к переобучению, поскольку появится большое количество детализированных признаков.\n",
        "\n",
        "\n",
        "Оценка количества: Количество биграмм может быть равно количеству юниграмм, возведенному в квадрат, а количество триграмм может быть равно количеству юниграмм в кубе, что приведет к очень большому пространству признаков."
      ]
    },
    {
      "cell_type": "code",
      "execution_count": null,
      "metadata": {
        "colab": {
          "base_uri": "https://localhost:8080/"
        },
        "outputId": "f28f4923-548d-4beb-fb85-d00a7765ef80",
        "id": "FP10xvbNjKTF"
      },
      "outputs": [
        {
          "output_type": "stream",
          "name": "stdout",
          "text": [
            "Размер словаря: 47\n",
            "Словарь:\n",
            "['and' 'and python' 'and python is' 'are' 'are you' 'are you doing'\n",
            " 'awesome' 'better' 'better than' 'better than yesterday' 'doing'\n",
            " 'doing today' 'hello' 'hello mr' 'hello mr smith' 'how' 'how are'\n",
            " 'how are you' 'is' 'is awesome' 'is better' 'is better than' 'mr'\n",
            " 'mr smith' 'mr smith how' 'python' 'python is' 'python is awesome'\n",
            " 'smith' 'smith how' 'smith how are' 'than' 'than yesterday'\n",
            " 'than yesterday and' 'the' 'the weather' 'the weather is' 'today'\n",
            " 'weather' 'weather is' 'weather is better' 'yesterday' 'yesterday and'\n",
            " 'yesterday and python' 'you' 'you doing' 'you doing today']\n"
          ]
        }
      ],
      "source": [
        "from sklearn.feature_extraction.text import TfidfVectorizer\n",
        "\n",
        "tfidf = TfidfVectorizer(ngram_range=(1, 3)).fit(corpus)\n",
        "print(\"Размер словаря: {}\".format(len(tfidf.vocabulary_)))\n",
        "print(\"Словарь:\\n{}\".format(tfidf.get_feature_names_out()))"
      ]
    },
    {
      "cell_type": "markdown",
      "metadata": {
        "id": "LPbcFA1FjKTF"
      },
      "source": [
        "Использование длинных последовательностей токенов, как правило, приводит к гораздо большему числу признаков и большей детализации признаков.\n",
        "\n",
        "В большинстве прикладных задач минимальное количество токенов в последовательности должно быть равно единице, поскольку одиночные слова позволяют зафиксировать многие смысловые значения.\n",
        "\n",
        "Добавление биграмм помогает во многих случаях. Включение в анализ более длинных последовательностей, вплоть до 5-грамм, тоже может помочь, но это вызовет взрывной рост количества признаков и может привести к переобучению, поскольку появится большое количество детализированных признаков.\n",
        "\n",
        "Оценка количества: Количество биграмм может быть равно количеству юниграмм, возведенному в квадрат, а количество триграмм может быть равно количеству юниграмм в кубе, что приведет к очень большому пространству признаков.\n",
        "\n",
        "При использовании N-грамм необходимо учитывать:\n",
        "\n",
        "* Высокая размерность и разреженность. Размерность пространства растет очень быстро, а вектора получаются очень разреженными. Чем больше N тем реже встречается соответствующая N-грамма.\n",
        "\n",
        "* Здесь, как и у одиночных слов, – близкие по смыслу слова (например, «кружка», «чашка») кодируются независящими друг от друга элементами вектора – в результате может страдать обобщающая способность.\n",
        "\n",
        "* Ввиду того, что размерность вектора очень большая (как и у одиночных слов) – в результате на небольшой обучающей выборке высока вероятность переобучения."
      ]
    },
    {
      "cell_type": "markdown",
      "metadata": {
        "id": "Girmqpj2jKTG"
      },
      "source": [
        "### TF-IDF: Анализ признаков\n",
        "\n",
        "Применение модели TF-IDF вместо обычных частот слов (мешка слов) как правило ведет к улучшению качества.\n",
        "\n",
        "Рассмотрим набор данных и выведем слова, которые в результате преобразования TF-IDF стали наиболее и наименее важными для документов. Также отметим, что понятие \"важное слово\", согласно алгоритма TF-IDF, необязательно связано с интересующими нас метками - \"положительный отзыв\" и \"отрицательный отзыв\"."
      ]
    },
    {
      "cell_type": "code",
      "execution_count": null,
      "metadata": {
        "colab": {
          "base_uri": "https://localhost:8080/",
          "height": 206
        },
        "outputId": "b566f0de-27b0-4725-9801-5e88f7323a41",
        "id": "HmWM9evMjKTG"
      },
      "outputs": [
        {
          "output_type": "execute_result",
          "data": {
            "text/plain": [
              "                                              review  liked\n",
              "0                           Wow... Loved this place.      1\n",
              "1                                 Crust is not good.      0\n",
              "2          Not tasty and the texture was just nasty.      0\n",
              "3  Stopped by during the late May bank holiday of...      1\n",
              "4  The selection on the menu was great and so wer...      1"
            ],
            "text/html": [
              "\n",
              "\n",
              "  <div id=\"df-81a4e2dc-3d95-4511-8fa9-842e8539533b\">\n",
              "    <div class=\"colab-df-container\">\n",
              "      <div>\n",
              "<style scoped>\n",
              "    .dataframe tbody tr th:only-of-type {\n",
              "        vertical-align: middle;\n",
              "    }\n",
              "\n",
              "    .dataframe tbody tr th {\n",
              "        vertical-align: top;\n",
              "    }\n",
              "\n",
              "    .dataframe thead th {\n",
              "        text-align: right;\n",
              "    }\n",
              "</style>\n",
              "<table border=\"1\" class=\"dataframe\">\n",
              "  <thead>\n",
              "    <tr style=\"text-align: right;\">\n",
              "      <th></th>\n",
              "      <th>review</th>\n",
              "      <th>liked</th>\n",
              "    </tr>\n",
              "  </thead>\n",
              "  <tbody>\n",
              "    <tr>\n",
              "      <th>0</th>\n",
              "      <td>Wow... Loved this place.</td>\n",
              "      <td>1</td>\n",
              "    </tr>\n",
              "    <tr>\n",
              "      <th>1</th>\n",
              "      <td>Crust is not good.</td>\n",
              "      <td>0</td>\n",
              "    </tr>\n",
              "    <tr>\n",
              "      <th>2</th>\n",
              "      <td>Not tasty and the texture was just nasty.</td>\n",
              "      <td>0</td>\n",
              "    </tr>\n",
              "    <tr>\n",
              "      <th>3</th>\n",
              "      <td>Stopped by during the late May bank holiday of...</td>\n",
              "      <td>1</td>\n",
              "    </tr>\n",
              "    <tr>\n",
              "      <th>4</th>\n",
              "      <td>The selection on the menu was great and so wer...</td>\n",
              "      <td>1</td>\n",
              "    </tr>\n",
              "  </tbody>\n",
              "</table>\n",
              "</div>\n",
              "      <button class=\"colab-df-convert\" onclick=\"convertToInteractive('df-81a4e2dc-3d95-4511-8fa9-842e8539533b')\"\n",
              "              title=\"Convert this dataframe to an interactive table.\"\n",
              "              style=\"display:none;\">\n",
              "\n",
              "  <svg xmlns=\"http://www.w3.org/2000/svg\" height=\"24px\"viewBox=\"0 0 24 24\"\n",
              "       width=\"24px\">\n",
              "    <path d=\"M0 0h24v24H0V0z\" fill=\"none\"/>\n",
              "    <path d=\"M18.56 5.44l.94 2.06.94-2.06 2.06-.94-2.06-.94-.94-2.06-.94 2.06-2.06.94zm-11 1L8.5 8.5l.94-2.06 2.06-.94-2.06-.94L8.5 2.5l-.94 2.06-2.06.94zm10 10l.94 2.06.94-2.06 2.06-.94-2.06-.94-.94-2.06-.94 2.06-2.06.94z\"/><path d=\"M17.41 7.96l-1.37-1.37c-.4-.4-.92-.59-1.43-.59-.52 0-1.04.2-1.43.59L10.3 9.45l-7.72 7.72c-.78.78-.78 2.05 0 2.83L4 21.41c.39.39.9.59 1.41.59.51 0 1.02-.2 1.41-.59l7.78-7.78 2.81-2.81c.8-.78.8-2.07 0-2.86zM5.41 20L4 18.59l7.72-7.72 1.47 1.35L5.41 20z\"/>\n",
              "  </svg>\n",
              "      </button>\n",
              "\n",
              "\n",
              "\n",
              "    <div id=\"df-dfc2122b-a2c9-4eab-82da-bc0478d59fcf\">\n",
              "      <button class=\"colab-df-quickchart\" onclick=\"quickchart('df-dfc2122b-a2c9-4eab-82da-bc0478d59fcf')\"\n",
              "              title=\"Suggest charts.\"\n",
              "              style=\"display:none;\">\n",
              "\n",
              "<svg xmlns=\"http://www.w3.org/2000/svg\" height=\"24px\"viewBox=\"0 0 24 24\"\n",
              "     width=\"24px\">\n",
              "    <g>\n",
              "        <path d=\"M19 3H5c-1.1 0-2 .9-2 2v14c0 1.1.9 2 2 2h14c1.1 0 2-.9 2-2V5c0-1.1-.9-2-2-2zM9 17H7v-7h2v7zm4 0h-2V7h2v10zm4 0h-2v-4h2v4z\"/>\n",
              "    </g>\n",
              "</svg>\n",
              "      </button>\n",
              "    </div>\n",
              "\n",
              "<style>\n",
              "  .colab-df-quickchart {\n",
              "    background-color: #E8F0FE;\n",
              "    border: none;\n",
              "    border-radius: 50%;\n",
              "    cursor: pointer;\n",
              "    display: none;\n",
              "    fill: #1967D2;\n",
              "    height: 32px;\n",
              "    padding: 0 0 0 0;\n",
              "    width: 32px;\n",
              "  }\n",
              "\n",
              "  .colab-df-quickchart:hover {\n",
              "    background-color: #E2EBFA;\n",
              "    box-shadow: 0px 1px 2px rgba(60, 64, 67, 0.3), 0px 1px 3px 1px rgba(60, 64, 67, 0.15);\n",
              "    fill: #174EA6;\n",
              "  }\n",
              "\n",
              "  [theme=dark] .colab-df-quickchart {\n",
              "    background-color: #3B4455;\n",
              "    fill: #D2E3FC;\n",
              "  }\n",
              "\n",
              "  [theme=dark] .colab-df-quickchart:hover {\n",
              "    background-color: #434B5C;\n",
              "    box-shadow: 0px 1px 3px 1px rgba(0, 0, 0, 0.15);\n",
              "    filter: drop-shadow(0px 1px 2px rgba(0, 0, 0, 0.3));\n",
              "    fill: #FFFFFF;\n",
              "  }\n",
              "</style>\n",
              "\n",
              "    <script>\n",
              "      async function quickchart(key) {\n",
              "        const containerElement = document.querySelector('#' + key);\n",
              "        const charts = await google.colab.kernel.invokeFunction(\n",
              "            'suggestCharts', [key], {});\n",
              "      }\n",
              "    </script>\n",
              "\n",
              "      <script>\n",
              "\n",
              "function displayQuickchartButton(domScope) {\n",
              "  let quickchartButtonEl =\n",
              "    domScope.querySelector('#df-dfc2122b-a2c9-4eab-82da-bc0478d59fcf button.colab-df-quickchart');\n",
              "  quickchartButtonEl.style.display =\n",
              "    google.colab.kernel.accessAllowed ? 'block' : 'none';\n",
              "}\n",
              "\n",
              "        displayQuickchartButton(document);\n",
              "      </script>\n",
              "      <style>\n",
              "    .colab-df-container {\n",
              "      display:flex;\n",
              "      flex-wrap:wrap;\n",
              "      gap: 12px;\n",
              "    }\n",
              "\n",
              "    .colab-df-convert {\n",
              "      background-color: #E8F0FE;\n",
              "      border: none;\n",
              "      border-radius: 50%;\n",
              "      cursor: pointer;\n",
              "      display: none;\n",
              "      fill: #1967D2;\n",
              "      height: 32px;\n",
              "      padding: 0 0 0 0;\n",
              "      width: 32px;\n",
              "    }\n",
              "\n",
              "    .colab-df-convert:hover {\n",
              "      background-color: #E2EBFA;\n",
              "      box-shadow: 0px 1px 2px rgba(60, 64, 67, 0.3), 0px 1px 3px 1px rgba(60, 64, 67, 0.15);\n",
              "      fill: #174EA6;\n",
              "    }\n",
              "\n",
              "    [theme=dark] .colab-df-convert {\n",
              "      background-color: #3B4455;\n",
              "      fill: #D2E3FC;\n",
              "    }\n",
              "\n",
              "    [theme=dark] .colab-df-convert:hover {\n",
              "      background-color: #434B5C;\n",
              "      box-shadow: 0px 1px 3px 1px rgba(0, 0, 0, 0.15);\n",
              "      filter: drop-shadow(0px 1px 2px rgba(0, 0, 0, 0.3));\n",
              "      fill: #FFFFFF;\n",
              "    }\n",
              "  </style>\n",
              "\n",
              "      <script>\n",
              "        const buttonEl =\n",
              "          document.querySelector('#df-81a4e2dc-3d95-4511-8fa9-842e8539533b button.colab-df-convert');\n",
              "        buttonEl.style.display =\n",
              "          google.colab.kernel.accessAllowed ? 'block' : 'none';\n",
              "\n",
              "        async function convertToInteractive(key) {\n",
              "          const element = document.querySelector('#df-81a4e2dc-3d95-4511-8fa9-842e8539533b');\n",
              "          const dataTable =\n",
              "            await google.colab.kernel.invokeFunction('convertToInteractive',\n",
              "                                                     [key], {});\n",
              "          if (!dataTable) return;\n",
              "\n",
              "          const docLinkHtml = 'Like what you see? Visit the ' +\n",
              "            '<a target=\"_blank\" href=https://colab.research.google.com/notebooks/data_table.ipynb>data table notebook</a>'\n",
              "            + ' to learn more about interactive tables.';\n",
              "          element.innerHTML = '';\n",
              "          dataTable['output_type'] = 'display_data';\n",
              "          await google.colab.output.renderOutput(dataTable, element);\n",
              "          const docLink = document.createElement('div');\n",
              "          docLink.innerHTML = docLinkHtml;\n",
              "          element.appendChild(docLink);\n",
              "        }\n",
              "      </script>\n",
              "    </div>\n",
              "  </div>\n"
            ]
          },
          "metadata": {},
          "execution_count": 16
        }
      ],
      "source": [
        "import pandas as pd\n",
        "\n",
        "url = 'https://raw.githubusercontent.com/SarthakRana/Restaurant-Reviews-using-NLP-/master/Restaurant_Reviews.tsv'\n",
        "reviews_data = pd.read_csv(url, sep = \"\\t\")\n",
        "reviews_data.columns = [\"review\", \"liked\"]\n",
        "reviews_data.head()"
      ]
    },
    {
      "cell_type": "code",
      "execution_count": null,
      "metadata": {
        "colab": {
          "base_uri": "https://localhost:8080/"
        },
        "outputId": "70c52de7-63c8-49f6-db67-7f86c636c76c",
        "id": "A-WPfeotjKTH"
      },
      "outputs": [
        {
          "output_type": "stream",
          "name": "stdout",
          "text": [
            "(1000,)\n"
          ]
        }
      ],
      "source": [
        "df_train = reviews_data[:]\n",
        "\n",
        "text_train, y_train = df_train.iloc[:, 0], df_train.iloc[:, 1]\n",
        "\n",
        "print(text_train.shape)"
      ]
    },
    {
      "cell_type": "code",
      "execution_count": null,
      "metadata": {
        "colab": {
          "base_uri": "https://localhost:8080/"
        },
        "outputId": "020d0011-6cc1-4acf-b576-d79c09f7e310",
        "id": "dUPi9QnejKTH"
      },
      "outputs": [
        {
          "output_type": "stream",
          "name": "stdout",
          "text": [
            "(1000, 2035)\n",
            "['00' '10' '100' ... 'yum' 'yummy' 'zero']\n",
            "  (2, 64)\t0.16724341982474072\n",
            "  (3, 64)\t0.09173368784273846\n",
            "  (4, 64)\t0.15380480656635295\n"
          ]
        }
      ],
      "source": [
        "from sklearn.feature_extraction.text import TfidfVectorizer\n",
        "\n",
        "vectorizer = TfidfVectorizer().fit(text_train)\n",
        "X_train = vectorizer.transform(text_train)\n",
        "print(X_train.shape)\n",
        "print(vectorizer.get_feature_names_out())\n",
        "print(X_train[0:5,0:70]) # возвращаются только ненулевые частоты для пар предложение-слово\n",
        "#print(X_train)"
      ]
    },
    {
      "cell_type": "code",
      "execution_count": null,
      "metadata": {
        "colab": {
          "base_uri": "https://localhost:8080/"
        },
        "outputId": "336dee79-f284-4410-d965-2c6ef860c9e2",
        "id": "zqNdOXGSjKTH"
      },
      "outputs": [
        {
          "output_type": "stream",
          "name": "stdout",
          "text": [
            "  (0, 0)\t0.3111148505375976\n",
            "  (0, 1)\t0.30710510678710823\n",
            "  (0, 2)\t0.5326446092551044\n",
            "  (0, 3)\t0.25768048250439995\n",
            "  (0, 4)\t0.3463789304207074\n",
            "  (0, 5)\t0.3554285401494549\n",
            "  (0, 6)\t0.3637930087671377\n",
            "  (0, 7)\t0.3109692161800724\n",
            "  (0, 8)\t0.4706118167230026\n",
            "  (0, 9)\t0.3937860274473437\n",
            "  (0, 10)\t0.3618244351529989\n",
            "  (0, 11)\t0.36223867878354243\n",
            "  (0, 12)\t0.2885065985446549\n",
            "  (0, 13)\t0.3867494686176509\n",
            "  (0, 14)\t0.4061533847196904\n",
            "  (0, 15)\t0.33566889246660503\n",
            "  (0, 16)\t0.32005411222941393\n",
            "  (0, 17)\t0.3429937350037847\n",
            "  (0, 18)\t0.3429937350037847\n",
            "  (0, 19)\t0.3062908890377469\n",
            "  (0, 20)\t0.26498042650330733\n",
            "  (0, 21)\t0.43825542986417987\n",
            "  (0, 22)\t0.25768048250439995\n",
            "  (0, 23)\t0.42198455701794846\n",
            "  (0, 24)\t0.3402059265757244\n",
            "  :\t:\n",
            "  (0, 2010)\t0.7294150661710829\n",
            "  (0, 2011)\t0.2674017313395308\n",
            "  (0, 2012)\t0.6778470250293764\n",
            "  (0, 2013)\t0.2715089406265714\n",
            "  (0, 2014)\t0.5452190476226532\n",
            "  (0, 2015)\t0.2660750752356896\n",
            "  (0, 2016)\t0.43795569010976054\n",
            "  (0, 2017)\t0.3900954576342873\n",
            "  (0, 2018)\t0.412289425244319\n",
            "  (0, 2019)\t0.35934551652688346\n",
            "  (0, 2020)\t0.29577647103280613\n",
            "  (0, 2021)\t0.39552858233238647\n",
            "  (0, 2022)\t0.40137593877083005\n",
            "  (0, 2023)\t0.4002552012841443\n",
            "  (0, 2024)\t0.4498190959284307\n",
            "  (0, 2025)\t0.34141184268294356\n",
            "  (0, 2026)\t0.3276525834229497\n",
            "  (0, 2027)\t0.5418938741381029\n",
            "  (0, 2028)\t0.4387862973347054\n",
            "  (0, 2029)\t0.3994189679027568\n",
            "  (0, 2030)\t0.31473226909026414\n",
            "  (0, 2031)\t0.3231806443332573\n",
            "  (0, 2032)\t0.40762417475471835\n",
            "  (0, 2033)\t0.4941674518657763\n",
            "  (0, 2034)\t0.6426509287327687\n"
          ]
        }
      ],
      "source": [
        "print(X_train.max(axis=0))"
      ]
    },
    {
      "cell_type": "code",
      "execution_count": null,
      "metadata": {
        "colab": {
          "base_uri": "https://localhost:8080/"
        },
        "outputId": "23dd246c-edc2-4c76-ff7c-e3586eb47e25",
        "id": "W_CBSMTgjKTI"
      },
      "outputs": [
        {
          "output_type": "stream",
          "name": "stdout",
          "text": [
            "Признаки с наименьшими значениями TF-IDF:\n",
            "['descriptions' 'eel' 'sauces' 'loves' 'bone' 'prepare' 'deep' 'temp'\n",
            " 'gloves' 'oil' 'bare' 'held' 'event' 'hereas' 'thru' 'somehow' 'loving'\n",
            " 'guys' 'son' 'bloodiest']\n",
            "Признаки с наибольшими значениями TF-IDF: \n",
            "['good' 'thoroughly' 'insulted' 'meh' 'both' 'terrible' 'prices'\n",
            " 'disappointing' 'fantastic' 'disgrace' 'touch' 'loved' 'sucks' 'awful'\n",
            " 'packed' 'mediocre' 'sooooo' 'mortified' 'waited' 'delicious']\n"
          ]
        }
      ],
      "source": [
        "import numpy as np\n",
        "\n",
        "# Находим максимальное значение каждого признака по набору данных\n",
        "max_value = X_train.max(axis=0).toarray().ravel()\n",
        "sorted_by_tfidf = max_value.argsort()\n",
        "# Получаем имена признаков\n",
        "feature_names = np.array(vectorizer.get_feature_names_out())\n",
        "\n",
        "print(\"Признаки с наименьшими значениями TF-IDF:\\n{}\".format(\n",
        "feature_names[sorted_by_tfidf[:20]]))\n",
        "print(\"Признаки с наибольшими значениями TF-IDF: \\n{}\".format(\n",
        "feature_names[sorted_by_tfidf[-20:]]))"
      ]
    },
    {
      "cell_type": "markdown",
      "metadata": {
        "id": "30T5V0ncjKTI"
      },
      "source": [
        "Признаки с низкими значениями TF-IDF – это признаки, которые либо встречаются во многих документах, либо используются редко и только в очень длинных документах.\n",
        "\n",
        "Также можно найти слова, которые имеют низкое значение обратной частоты документа (IDF), т.е. слова, которые встречаются часто и поэтому считаются менее важными. Значения IDF, найденные для обучающего набора, хранятся в атрибуте idf_"
      ]
    },
    {
      "cell_type": "code",
      "execution_count": null,
      "metadata": {
        "colab": {
          "base_uri": "https://localhost:8080/"
        },
        "outputId": "77fbbe9a-d7e0-4477-aa4d-1e3f95d40447",
        "id": "YpUWsP4-jKTI"
      },
      "outputs": [
        {
          "output_type": "stream",
          "name": "stdout",
          "text": [
            "Признаки с наименьшими значениями idf:\n",
            "['the' 'and' 'was' 'to' 'is' 'it' 'this' 'of' 'food' 'not' 'place' 'for'\n",
            " 'in' 'good' 'service' 'we' 'my' 'very' 'with' 'had' 'be' 'so' 'that'\n",
            " 'great' 'have' 'but' 'back' 'were' 'are' 'here' 'they' 'you' 'at' 'on'\n",
            " 'like' 'go' 'time' 'all' 'our' 'will' 'there' 'just' 'really' 'as' 'an'\n",
            " 'best' 'their' 'would' 'ever' 'if' 'also' 'friendly' 'don' 'one' 'only'\n",
            " 'nice' 'out' 'up' 'your' 'never' 'restaurant' 'amazing' 'again' 'what'\n",
            " 'delicious' 'no' 'can' 've' 'vegas' 'been' 'which' 'by' 'from'\n",
            " 'experience' 'when' 'came' 'me' 'did' 'some' 'eat' 'love' 'even' 'or'\n",
            " 'won' 'disappointed' 'us' 'definitely' 'pretty' 'get' 'staff' 'going'\n",
            " 'much' 'more' 'first' 'bad' 'got' 'made' 'about' 'say' 'could']\n"
          ]
        }
      ],
      "source": [
        "sorted_by_idf = np.argsort(vectorizer.idf_)\n",
        "print(\"Признаки с наименьшими значениями idf:\\n{}\".format(\n",
        "feature_names[sorted_by_idf[:100]]))"
      ]
    },
    {
      "cell_type": "code",
      "execution_count": null,
      "metadata": {
        "colab": {
          "base_uri": "https://localhost:8080/"
        },
        "outputId": "d1d2983b-b57f-41f3-9ef8-1535da924ff8",
        "id": "q48BOhqhjKTJ"
      },
      "outputs": [
        {
          "output_type": "stream",
          "name": "stdout",
          "text": [
            "['good' 'thoroughly' 'insulted' 'meh' 'both' 'terrible' 'prices'\n",
            " 'disappointing' 'fantastic' 'disgrace' 'touch' 'loved' 'sucks' 'awful'\n",
            " 'packed' 'mediocre' 'sooooo' 'mortified' 'waited' 'delicious']\n",
            "[0.82 0.83 0.83 0.83 0.84 0.85 0.85 0.86 0.86 0.87 0.88 0.88 0.88 0.88\n",
            " 0.89 0.89 0.91 0.95 0.98 1.  ]\n",
            "{'good': 0.8247505962691464, 'thoroughly': 0.8265849441389045, 'insulted': 0.82934566382534, 'meh': 0.8318750298539495, 'both': 0.8369759598773905, 'terrible': 0.8472982393270684, 'prices': 0.8519571015020487, 'disappointing': 0.8589837451729564, 'fantastic': 0.8646568951476906, 'disgrace': 0.8660978066473745, 'touch': 0.8768247173892318, 'loved': 0.8795289888692361, 'sucks': 0.8837128187982934, 'awful': 0.8837128187982934, 'packed': 0.885288238455099, 'mediocre': 0.8869698098675498, 'sooooo': 0.9052346109283829, 'mortified': 0.9512145701950588, 'waited': 0.9842848621126474, 'delicious': 1.0}\n"
          ]
        }
      ],
      "source": [
        "print(feature_names[sorted_by_tfidf[-20:]])\n",
        "print(max_value[sorted_by_tfidf[-20:]])\n",
        "dict_freq = {i:j for i,j in zip(feature_names[sorted_by_tfidf[-20:]],max_value[sorted_by_tfidf[-20:]])}\n",
        "print(dict_freq)"
      ]
    },
    {
      "cell_type": "code",
      "execution_count": null,
      "metadata": {
        "colab": {
          "base_uri": "https://localhost:8080/",
          "height": 285
        },
        "outputId": "565f35ad-fa15-4527-acbe-5133d2002890",
        "id": "h7Giw3THjKTJ"
      },
      "outputs": [
        {
          "output_type": "display_data",
          "data": {
            "text/plain": [
              "<Figure size 640x480 with 1 Axes>"
            ],
            "image/png": "[encoded data removed]"
          },
          "metadata": {}
        }
      ],
      "source": [
        "from wordcloud import WordCloud\n",
        "import matplotlib.pyplot as plt\n",
        "wordcloud = WordCloud(max_font_size=70, max_words=100, background_color=\"white\").generate_from_frequencies(dict_freq)\n",
        "plt.imshow(wordcloud)\n",
        "plt.axis(\"off\")\n",
        "plt.show()"
      ]
    },
    {
      "cell_type": "markdown",
      "metadata": {
        "id": "mcFarW8XjKTJ"
      },
      "source": [
        "## III. Классификация текстов"
      ]
    },
    {
      "cell_type": "code",
      "execution_count": null,
      "metadata": {
        "colab": {
          "base_uri": "https://localhost:8080/"
        },
        "outputId": "579b4562-e632-4ed9-df34-c04e6caf2362",
        "id": "NQ8SzAd4jKTK"
      },
      "outputs": [
        {
          "output_type": "stream",
          "name": "stdout",
          "text": [
            "(1000, 2035)\n"
          ]
        }
      ],
      "source": [
        "import pandas as pd\n",
        "\n",
        "url = 'https://raw.githubusercontent.com/SarthakRana/Restaurant-Reviews-using-NLP-/master/Restaurant_Reviews.tsv'\n",
        "reviews_data = pd.read_csv(url, sep = \"\\t\")\n",
        "df_train = reviews_data[:]\n",
        "data, labels = df_train.iloc[:, 0], df_train.iloc[:, 1]\n",
        "\n",
        "from sklearn.feature_extraction.text import TfidfVectorizer\n",
        "vectorizer = TfidfVectorizer().fit(data)\n",
        "X = vectorizer.transform(text_train)\n",
        "print(X.shape)"
      ]
    },
    {
      "cell_type": "code",
      "execution_count": null,
      "metadata": {
        "colab": {
          "base_uri": "https://localhost:8080/"
        },
        "outputId": "5a20949e-2324-4893-cbfc-00ce920a1e2f",
        "id": "Dp09gO0ZjKTK"
      },
      "outputs": [
        {
          "output_type": "stream",
          "name": "stdout",
          "text": [
            "LogisticRegression:  0.81\n"
          ]
        }
      ],
      "source": [
        "from sklearn.model_selection import train_test_split\n",
        "X_train, X_test, y_train, y_test = train_test_split(X, labels, test_size=0.2, random_state=42)\n",
        "\n",
        "from sklearn.linear_model import LogisticRegression\n",
        "model = LogisticRegression().fit(X_train, y_train)\n",
        "\n",
        "from sklearn.metrics import accuracy_score\n",
        "print ('LogisticRegression: ',\n",
        "       accuracy_score(model.predict(X_test), y_test))"
      ]
    },
    {
      "cell_type": "code",
      "source": [],
      "metadata": {
        "id": "M--6bMMgHdqg"
      },
      "execution_count": null,
      "outputs": []
    },
    {
      "cell_type": "markdown",
      "source": [
        "# Домашние задания"
      ],
      "metadata": {
        "id": "Spy5U38xiamZ"
      }
    },
    {
      "cell_type": "markdown",
      "metadata": {
        "id": "vUNQeheir_VX"
      },
      "source": [
        "1) Используя набор данных Restaurant_Reviews.tsv, получить классификатор с наибольшей точностью предсказания.\n",
        "\n",
        "Нужно использовать следующие возможности NLP:\n",
        "\n",
        "I. Операции предобработки текста\n",
        "- stop-words\n",
        "- lemmatization\n",
        "- stemming\n",
        "\n",
        "II. Методы векторного представления текстов\n",
        "- Bag of words\n",
        "- TF-IDF\n",
        "- N-gramms\n",
        "\n",
        "III. Методы классификации:\n",
        "- MultinomialNB\n",
        "- LogisticRegression\n",
        "- LinearSVC\n",
        "- RandomForestClassifier"
      ]
    },
    {
      "cell_type": "code",
      "source": [],
      "metadata": {
        "id": "yoRVz_9_ef6X"
      },
      "execution_count": null,
      "outputs": []
    }
  ],
  "metadata": {
    "colab": {
      "collapsed_sections": [
        "-o7X5MuDjKSe",
        "DDh1w2xG4sla",
        "0fT3HSs4jKS6",
        "P_anl-1HjKS6",
        "u_Cs4GDkjKS8",
        "kcYx7sKDjKS9",
        "pYr27WzYjKS9",
        "UFAXIa9mjKS9",
        "0dsDgV-tjKS_",
        "jEO5g87EjKS_",
        "tTIU3zXgjKTC",
        "uRnDB5NQjKTD",
        "Girmqpj2jKTG",
        "mcFarW8XjKTJ",
        "Spy5U38xiamZ"
      ],
      "provenance": []
    },
    "kernelspec": {
      "display_name": "Python 3 (ipykernel)",
      "language": "python",
      "name": "python3"
    },
    "language_info": {
      "codemirror_mode": {
        "name": "ipython",
        "version": 3
      },
      "file_extension": ".py",
      "mimetype": "text/x-python",
      "name": "python",
      "nbconvert_exporter": "python",
      "pygments_lexer": "ipython3",
      "version": "3.8.6"
    }
  },
  "nbformat": 4,
  "nbformat_minor": 0
}